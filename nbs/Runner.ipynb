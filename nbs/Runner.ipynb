{
 "cells": [
  {
   "cell_type": "markdown",
   "id": "a13fa51d-1500-46ea-bb66-ada0f4e24741",
   "metadata": {},
   "source": [
    "# Runner\n",
    "\n",
    "> Runner object to run the request collection as well as response. We have the callback implementaion here."
   ]
  },
  {
   "cell_type": "code",
   "execution_count": null,
   "id": "6f14000d-f257-44c1-99c0-ba6067cd954b",
   "metadata": {},
   "outputs": [],
   "source": [
    "#| export\n",
    "\n",
    "from exp.nb_ReqRespBunch import *"
   ]
  },
  {
   "cell_type": "code",
   "execution_count": null,
   "id": "856ab102-9bcf-4530-9470-2b049f1f3d75",
   "metadata": {},
   "outputs": [],
   "source": [
    "#| export\n",
    "\n",
    "def listify(o):\n",
    "    if o is None: return []\n",
    "    if isinstance(o, list): return o\n",
    "    if isinstance(o, str): return [o]\n",
    "    if isinstance(o, Iterable): return list(o)\n",
    "    return [o]"
   ]
  },
  {
   "cell_type": "code",
   "execution_count": null,
   "id": "39aead34-7f67-49d8-a863-208105a527b5",
   "metadata": {},
   "outputs": [],
   "source": [
    "#| export\n",
    "import re\n",
    "class Callback():\n",
    "    _order=0\n",
    "    def set_runner(self, run): self.run=run\n",
    "    def __getattr__(self, k): return getattr(self.run, k)\n",
    "    \n",
    "    @property\n",
    "    def name(self):\n",
    "        name = re.sub(r'Callback$', '', self.__class__.__name__)\n",
    "        return name\n",
    "    \n",
    "    def __call__(self, cb_name):\n",
    "        f = getattr(self, cb_name, None)\n",
    "        if f and f(): return True\n",
    "        return False"
   ]
  },
  {
   "cell_type": "code",
   "execution_count": null,
   "id": "345beb37-173d-4584-ae5e-abfa76d43b22",
   "metadata": {},
   "outputs": [],
   "source": [
    "#| export\n",
    "from tqdm.notebook import tqdm\n",
    "\n",
    "class Runner():\n",
    "    def __init__(self, cb_funcs=None):\n",
    "        base_cb = [CookieCallback, ResponseStoreCallback]\n",
    "        if not cb_funcs:\n",
    "            cb_funcs = base_cb\n",
    "        else:\n",
    "            cb_funcs = base_cb + cb_funcs\n",
    "        cbs = []\n",
    "        for cfs in listify(cb_funcs):\n",
    "\n",
    "            cb = cfs()\n",
    "            setattr(self, cb.name, cb)\n",
    "            cbs.append(cb)\n",
    "        self.cbs = cbs\n",
    "    \n",
    "    @property\n",
    "    def reqs_bunch(self):  return self.bunchs.reqs\n",
    "\n",
    "    @property\n",
    "    def resps_bunch(self):  return self.bunchs.resps\n",
    "\n",
    "    @property\n",
    "    def kwargs_bunch(self):  return self.bunchs.kwargs\n",
    "\n",
    "    def set_kwargs(self, idx, val):\n",
    "        self.bunchs.set_kwargs(idx, val)\n",
    "\n",
    "    def set_resp(self, idx, val):\n",
    "        self.bunchs.set_resp(idx, val)\n",
    "    \n",
    "    def send_one_req(self, req:RestReq, **kwargs):\n",
    "            #print(\"insideof send_one_req\")\n",
    "            #print(kwargs)\n",
    "            self.resp = req()(**kwargs)\n",
    "            #print(self.resp)\n",
    "    def run(self, bunchs):\n",
    "        self.bunchs, self.epoch  = bunchs,0\n",
    "\n",
    "        for cb in self.cbs: cb.set_runner(self)\n",
    "\n",
    "        self('before_run')\n",
    "        \n",
    "        for i  in  tqdm(range(len(self.reqs_bunch))):\n",
    "            \n",
    "            self.req = self.reqs_bunch[i]\n",
    "            self.epoch = i\n",
    "            \n",
    "            self('before_request') \n",
    "            \n",
    "            kwargs = self.kwargs_bunch[i] \n",
    "            \n",
    "            self.reqs_bunch[i].set_req_kwargs(kwargs) \n",
    "            \n",
    "            if kwargs:\n",
    "                self.send_one_req(self.req, **kwargs)\n",
    "            else:\n",
    "                self.send_one_req(self.req)\n",
    "\n",
    "\n",
    "            self('after_request') \n",
    "            \n",
    "            \n",
    "        \n",
    "        self('after_run')\n",
    "\n",
    "    def __call__(self, cb_name):\n",
    "        res = False\n",
    "        for cb in sorted(self.cbs, key=lambda x: x._order): res = cb(cb_name) or res\n",
    "        return res"
   ]
  },
  {
   "cell_type": "code",
   "execution_count": null,
   "id": "c0815708-075a-4688-a162-6e785c10c4d1",
   "metadata": {},
   "outputs": [],
   "source": [
    "#| export\n",
    "class CookieCallback(Callback):\n",
    "    def before_request(self):\n",
    "        \n",
    "        if self.epoch != 0:\n",
    "            self.set_kwargs(self.epoch, ('cookies', self.resps_bunch[self.epoch - 1].cookies))\n",
    "        \n",
    "    def after_request(self):\n",
    "        #self.set_kwargs(self.epoch, ('cookies', self.resp.cookies))\n",
    "        #print(f\"{self.epoch=} {self.kwargs_bunch=}\")\n",
    "        ...\n",
    "class ResponseStoreCallback(Callback):\n",
    "    def after_request(self):\n",
    "        self.set_resp(self.epoch, self.resp)"
   ]
  },
  {
   "cell_type": "code",
   "execution_count": null,
   "id": "5a54e56c-f7c1-4bad-8f14-7008aeca0e2c",
   "metadata": {},
   "outputs": [],
   "source": [
    "url = lambda: f\"{get_env('url1')}/get\"\n",
    "\n",
    "params = lambda : {\n",
    "    \"foo1\": f\"{get_env('foo1')}\",\n",
    "    \"foo2\": f\"{get_env('foo2')}\",\n",
    "}\n",
    "\n",
    "# Create the RestReqFactory instance\n",
    "req1 = RestReqFactory(\n",
    "    method=\"GET\",\n",
    "    url_provider=url,\n",
    "    params_provider=params,\n",
    ")"
   ]
  },
  {
   "cell_type": "code",
   "execution_count": null,
   "id": "4329f892-eee0-43fa-88c6-1e97374f107d",
   "metadata": {},
   "outputs": [],
   "source": [
    "ENV['foo1'] = 'foo1'\n",
    "ENV['foo2'] = 'foo2'\n",
    "ENV['url1']  = 'https://postman-echo.com'\n",
    "ENV['url2']  = 'https://reqres.in'"
   ]
  },
  {
   "cell_type": "code",
   "execution_count": null,
   "id": "c85e3143-beb9-400d-a258-79b49ef78507",
   "metadata": {},
   "outputs": [],
   "source": [
    "url = lambda : f\"{get_env('url2')}/api/users/2\"\n",
    "\n",
    "req2 = RestReqFactory(\n",
    "    method=\"GET\",\n",
    "    url_provider=url,\n",
    ")"
   ]
  },
  {
   "cell_type": "code",
   "execution_count": null,
   "id": "9c618a04-9745-4b54-be69-4e449344e941",
   "metadata": {},
   "outputs": [],
   "source": [
    "reqs = ReqRespBunch([req1, req2])"
   ]
  },
  {
   "cell_type": "code",
   "execution_count": null,
   "id": "32eeb715-1a4d-45d4-9cce-541c1b1e1524",
   "metadata": {},
   "outputs": [],
   "source": [
    "runner = Runner()"
   ]
  },
  {
   "cell_type": "code",
   "execution_count": null,
   "id": "6e0a8ee4-2607-4b6d-89f0-996e37f0ba6b",
   "metadata": {},
   "outputs": [
    {
     "data": {
      "application/vnd.jupyter.widget-view+json": {
       "model_id": "989c53450ec5426d921906eff986b3af",
       "version_major": 2,
       "version_minor": 0
      },
      "text/plain": [
       "  0%|          | 0/2 [00:00<?, ?it/s]"
      ]
     },
     "metadata": {},
     "output_type": "display_data"
    }
   ],
   "source": [
    "runner.run(reqs)"
   ]
  },
  {
   "cell_type": "code",
   "execution_count": null,
   "id": "0d91929f-c24b-4a86-8378-a573728c1999",
   "metadata": {},
   "outputs": [
    {
     "data": {
      "text/plain": [
       "[{'request': {\n",
       "      \"method\": \"GET\",\n",
       "      \"url\": \"https://postman-echo.com/get\",\n",
       "      \"headers\": \"None\",\n",
       "      \"params\": {\n",
       "          \"foo1\": \"foo1\",\n",
       "          \"foo2\": \"foo2\"\n",
       "      },\n",
       "      \"body\": \"None\",\n",
       "      \"kwargs\": \"None\"\n",
       "  },\n",
       "  'response': {\n",
       "      \"url\": \"https://postman-echo.com/get?foo1=foo1&foo2=foo2\",\n",
       "      \"status\": 200,\n",
       "      \"headers\": {\n",
       "          \"Date\": \"Sat, 08 Jun 2024 15:34:04 GMT\",\n",
       "          \"Content-Type\": \"application/json; charset=utf-8\",\n",
       "          \"Content-Length\": \"438\",\n",
       "          \"Connection\": \"close\",\n",
       "          \"ETag\": \"W/\\\"1b6-9BIXzYxXp0/QGNIuzYKsV6l1t58\\\"\",\n",
       "          \"set-cookie\": \"sails.sid=s%3Asxwk3G05JAOj5Lq7gEoNIKpAT5qQRMsL.681C3Yx6JxWK7cdRgpg53qChIfhOTK9un5Cs0fRdOq4; Path=/; HttpOnly\"\n",
       "      },\n",
       "      \"cookies\": {\n",
       "          \"sails.sid\": \"s%3Asxwk3G05JAOj5Lq7gEoNIKpAT5qQRMsL.681C3Yx6JxWK7cdRgpg53qChIfhOTK9un5Cs0fRdOq4\"\n",
       "      },\n",
       "      \"elapsed\": \"0:00:01.077280\",\n",
       "      \"text\": \"{\\n  \\\"args\\\": {\\n    \\\"foo1\\\": \\\"foo1\\\",\\n    \\\"foo2\\\": \\\"foo2\\\"\\n  },\\n  \\\"headers\\\": {\\n    \\\"x-forwarded-proto\\\": \\\"https\\\",\\n    \\\"x-forwarded-port\\\": \\\"443\\\",\\n    \\\"host\\\": \\\"postman-echo.com\\\",\\n    \\\"x-amzn-trace-id\\\": \\\"Root=1-666479ec-338ba74777eb77786111e600\\\",\\n    \\\"content-length\\\": \\\"4\\\",\\n    \\\"user-agent\\\": \\\"python-requests/2.31.0\\\",\\n    \\\"accept-encoding\\\": \\\"gzip, deflate, br\\\",\\n    \\\"accept\\\": \\\"*/*\\\"\\n  },\\n  \\\"url\\\": \\\"https://postman-echo.com/get?foo1=foo1&foo2=foo2\\\"\\n}\",\n",
       "      \"json\": {\n",
       "          \"args\": {\n",
       "              \"foo1\": \"foo1\",\n",
       "              \"foo2\": \"foo2\"\n",
       "          },\n",
       "          \"headers\": {\n",
       "              \"x-forwarded-proto\": \"https\",\n",
       "              \"x-forwarded-port\": \"443\",\n",
       "              \"host\": \"postman-echo.com\",\n",
       "              \"x-amzn-trace-id\": \"Root=1-666479ec-338ba74777eb77786111e600\",\n",
       "              \"content-length\": \"4\",\n",
       "              \"user-agent\": \"python-requests/2.31.0\",\n",
       "              \"accept-encoding\": \"gzip, deflate, br\",\n",
       "              \"accept\": \"*/*\"\n",
       "          },\n",
       "          \"url\": \"https://postman-echo.com/get?foo1=foo1&foo2=foo2\"\n",
       "      }\n",
       "  }},\n",
       " {'request': {\n",
       "      \"method\": \"GET\",\n",
       "      \"url\": \"https://reqres.in/api/users/2\",\n",
       "      \"headers\": \"None\",\n",
       "      \"params\": \"None\",\n",
       "      \"body\": \"None\",\n",
       "      \"kwargs\": {\n",
       "          \"cookies\": [\n",
       "              {\n",
       "                  \"name\": \"sails.sid\",\n",
       "                  \"value\": \"s%3Asxwk3G05JAOj5Lq7gEoNIKpAT5qQRMsL.681C3Yx6JxWK7cdRgpg53qChIfhOTK9un5Cs0fRdOq4\",\n",
       "                  \"domain\": \"postman-echo.com\",\n",
       "                  \"path\": \"/\"\n",
       "              }\n",
       "          ]\n",
       "      }\n",
       "  },\n",
       "  'response': {\n",
       "      \"url\": \"https://reqres.in/api/users/2\",\n",
       "      \"status\": 200,\n",
       "      \"headers\": {\n",
       "          \"Date\": \"Sat, 08 Jun 2024 15:34:04 GMT\",\n",
       "          \"Content-Type\": \"application/json; charset=utf-8\",\n",
       "          \"Transfer-Encoding\": \"chunked\",\n",
       "          \"Connection\": \"keep-alive\",\n",
       "          \"Report-To\": \"{\\\"group\\\":\\\"heroku-nel\\\",\\\"max_age\\\":3600,\\\"endpoints\\\":[{\\\"url\\\":\\\"https://nel.heroku.com/reports?ts=1717620847&sid=c4c9725f-1ab0-44d8-820f-430df2718e11&s=DbFrzHDDUY7em0XRx0ya12Vbl%2FBWAutgP6qXX6v7ZuE%3D\\\"}]}\",\n",
       "          \"Reporting-Endpoints\": \"heroku-nel=https://nel.heroku.com/reports?ts=1717620847&sid=c4c9725f-1ab0-44d8-820f-430df2718e11&s=DbFrzHDDUY7em0XRx0ya12Vbl%2FBWAutgP6qXX6v7ZuE%3D\",\n",
       "          \"Nel\": \"{\\\"report_to\\\":\\\"heroku-nel\\\",\\\"max_age\\\":3600,\\\"success_fraction\\\":0.005,\\\"failure_fraction\\\":0.05,\\\"response_headers\\\":[\\\"Via\\\"]}\",\n",
       "          \"X-Powered-By\": \"Express\",\n",
       "          \"Access-Control-Allow-Origin\": \"*\",\n",
       "          \"Etag\": \"W/\\\"118-pbdwwFo9SKNhD3Lx5iHJyngpq00\\\"\",\n",
       "          \"Via\": \"1.1 vegur\",\n",
       "          \"Cache-Control\": \"max-age=14400\",\n",
       "          \"CF-Cache-Status\": \"HIT\",\n",
       "          \"Age\": \"875\",\n",
       "          \"Vary\": \"Accept-Encoding\",\n",
       "          \"Server\": \"cloudflare\",\n",
       "          \"CF-RAY\": \"8909f1a71b509a81-NAG\",\n",
       "          \"Content-Encoding\": \"br\"\n",
       "      },\n",
       "      \"cookies\": {},\n",
       "      \"elapsed\": \"0:00:00.138409\",\n",
       "      \"text\": \"{\\\"data\\\":{\\\"id\\\":2,\\\"email\\\":\\\"janet.weaver@reqres.in\\\",\\\"first_name\\\":\\\"Janet\\\",\\\"last_name\\\":\\\"Weaver\\\",\\\"avatar\\\":\\\"https://reqres.in/img/faces/2-image.jpg\\\"},\\\"support\\\":{\\\"url\\\":\\\"https://reqres.in/#support-heading\\\",\\\"text\\\":\\\"To keep ReqRes free, contributions towards server costs are appreciated!\\\"}}\",\n",
       "      \"json\": {\n",
       "          \"data\": {\n",
       "              \"id\": 2,\n",
       "              \"email\": \"janet.weaver@reqres.in\",\n",
       "              \"first_name\": \"Janet\",\n",
       "              \"last_name\": \"Weaver\",\n",
       "              \"avatar\": \"https://reqres.in/img/faces/2-image.jpg\"\n",
       "          },\n",
       "          \"support\": {\n",
       "              \"url\": \"https://reqres.in/#support-heading\",\n",
       "              \"text\": \"To keep ReqRes free, contributions towards server costs are appreciated!\"\n",
       "          }\n",
       "      }\n",
       "  }}]"
      ]
     },
     "execution_count": null,
     "metadata": {},
     "output_type": "execute_result"
    }
   ],
   "source": [
    "print_req_resp(reqs)"
   ]
  },
  {
   "cell_type": "code",
   "execution_count": null,
   "id": "5dfae9d0-9db6-4ae7-b988-c958ce95f47e",
   "metadata": {},
   "outputs": [
    {
     "name": "stdout",
     "output_type": "stream",
     "text": [
      "Converted Runner.ipynb to exp/nb_Runner.py\n"
     ]
    }
   ],
   "source": [
    "!python notebook2script.py Runner.ipynb"
   ]
  }
 ],
 "metadata": {
  "kernelspec": {
   "display_name": "python3",
   "language": "python",
   "name": "python3"
  }
 },
 "nbformat": 4,
 "nbformat_minor": 5
}
