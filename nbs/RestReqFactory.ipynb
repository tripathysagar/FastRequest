{
 "cells": [
  {
   "cell_type": "markdown",
   "id": "6549b65d-db43-4159-97f7-66f34f5b6bca",
   "metadata": {},
   "source": [
    "# RestReq\n",
    "\n",
    "> class allows us to create the rest request body as well as call. For now `GET, POST, PUT, DELETE` methods are allowed"
   ]
  },
  {
   "cell_type": "code",
   "execution_count": null,
   "id": "a41454ed-e072-43d3-a67f-42f7761ef1d3",
   "metadata": {},
   "outputs": [],
   "source": [
    "#| export\n",
    "from dataclasses import dataclass\n",
    "from typing import Union, Optional, Dict\n",
    "from collections import defaultdict\n",
    "import requests\n",
    "import json"
   ]
  },
  {
   "cell_type": "code",
   "execution_count": null,
   "id": "cd232fc0-dcb6-4ab2-900e-b3a6f382cd6e",
   "metadata": {},
   "outputs": [],
   "source": [
    "#| export\n",
    "ENV = defaultdict(lambda: None)\n",
    "get_env = lambda x : ENV[x] if ENV[x] else ''\n",
    "def set_env(key, val): ENV[key] = val"
   ]
  },
  {
   "cell_type": "code",
   "execution_count": null,
   "id": "2f1f5860-9803-49c3-b318-b1496a1ac813",
   "metadata": {},
   "outputs": [],
   "source": [
    "assert get_env('x') == ''\n",
    "set_env('x', 3)\n",
    "assert get_env('x') == 3"
   ]
  },
  {
   "cell_type": "code",
   "execution_count": null,
   "id": "bc940533-bb47-4b6a-9633-87c92a5e8ef2",
   "metadata": {},
   "outputs": [],
   "source": [
    "#| export\n",
    "allowed_methods = [\"GET\",\"POST\",\"PUT\", \"DELETE\"]\n",
    "\n",
    "@dataclass\n",
    "class RestReq:\n",
    "    method: str\n",
    "    url: str\n",
    "    headers: Union[dict,None] = None\n",
    "    params: Union[dict,None]= None\n",
    "    body: Union[dict, None] = None\n",
    "    kwargs: Union[dict, None] = None\n",
    "    \n",
    "    @property\n",
    "    def curl(self):\n",
    "        \n",
    "        params_str = \"?\"+\"&\".join([f\"{key}={value}\" for key, value in self.params.items()]) if self.params else ''\n",
    "            \n",
    "        curl_cmnd = f\"curl -X {self.method.upper()} '{self.url}{params_str}'\"\n",
    "\n",
    "        if self.headers:\n",
    "            for key, value in self.headers.items():\n",
    "                curl_cmnd += f\" -H '{key}: {value}'\"\n",
    "        \n",
    "        if self.body :\n",
    "            curl_cmnd += f\" -d '{json.dumps(self.body)}'\"\n",
    "            \n",
    "        return curl_cmnd\n",
    "\n",
    "    def __call__(self, **kwargs):\n",
    "        response = None\n",
    "        try:\n",
    "            if self.method.upper() in allowed_methods:\n",
    "                response = requests.request(self.method, self.url, headers=self.headers, params=self.params, data=json.dumps(self.body), **kwargs)\n",
    "            else:\n",
    "                raise \"not a valid method\"\n",
    "        \n",
    "        except Exception as e:\n",
    "            print(f\"Error occurred while making the HTTP request: {e}\")\n",
    "        \n",
    "        finally:\n",
    "            return response\n",
    "\n",
    "    def parse_kwargs(self):\n",
    "        if self.kwargs:\n",
    "            for k,v in self.kwargs.items():\n",
    "                if k == 'cookies' and isinstance(self.kwargs[k], requests.cookies.RequestsCookieJar ):\n",
    "                    cookies = self.kwargs[k]\n",
    "                    arr = []\n",
    "                    for c in cookies:\n",
    "                        arr.append({\n",
    "                            'name': c.name,\n",
    "                            'value': c.value,\n",
    "                            'domain': c.domain,\n",
    "                            'path': c.path\n",
    "                        })\n",
    "                    \n",
    "                    self.kwargs[k] = arr\n",
    "\n",
    "    def __repr__(self):\n",
    "        \"\"\"\n",
    "        print the request details as a JSON object.\n",
    "\n",
    "        Returns:\n",
    "            str: A JSON string representation of the request details.\n",
    "        \"\"\"\n",
    "        self.parse_kwargs()\n",
    "        req_details = {\n",
    "            'method': self.method,\n",
    "            'url': self.url,\n",
    "            'headers': self.headers if self.headers else 'None',\n",
    "            'params': self.params if self.params else 'None',\n",
    "            'body': self.body if self.body else 'None',\n",
    "            'kwargs': self.kwargs if self.kwargs else 'None'\n",
    "        }\n",
    "        \n",
    "        return json.dumps(req_details, indent=4)"
   ]
  },
  {
   "cell_type": "code",
   "execution_count": null,
   "id": "4d1061b9-ffc0-4b1c-888a-a204f77d64a5",
   "metadata": {},
   "outputs": [],
   "source": [
    "#| export\n",
    "class RestReqFactory:\n",
    "    def __init__(self, method, url_provider, headers_provider=lambda:None, params_provider=lambda:None, body_provider=lambda:None):\n",
    "        self.method = method\n",
    "        self.url_provider = url_provider\n",
    "        self.headers_provider = headers_provider\n",
    "        self.params_provider = params_provider\n",
    "        self.body_provider = body_provider\n",
    "        self.kwargs = None\n",
    "    def __call__(self):\n",
    "        return RestReq(\n",
    "            method=self.method,\n",
    "            url=self.url_provider(),\n",
    "            headers=self.headers_provider(),\n",
    "            params=self.params_provider(),\n",
    "            body=self.body_provider(),\n",
    "            kwargs=self.kwargs \n",
    "        )\n",
    "        \n",
    "    def set_req_kwargs(self, kwargs):\n",
    "        self.kwargs = kwargs"
   ]
  },
  {
   "cell_type": "markdown",
   "id": "27cd5be5-97cc-4043-bc01-65b39dbbc534",
   "metadata": {},
   "source": [
    "## httpbin testing"
   ]
  },
  {
   "cell_type": "code",
   "execution_count": null,
   "id": "e68e9254-23a9-4417-8187-eb871fe877ea",
   "metadata": {},
   "outputs": [],
   "source": [
    "url = lambda: f\"{get_env('url')}/post\"\n",
    "\n",
    "head = lambda : {\n",
    "    \"accept\": f\"{get_env('accept')}\",\n",
    "}\n",
    "\n",
    "# Create the RestReqFactory instance\n",
    "req = RestReqFactory(\n",
    "    method=\"POST\",\n",
    "    url_provider=url,\n",
    "    headers_provider=head,\n",
    ")"
   ]
  },
  {
   "cell_type": "code",
   "execution_count": null,
   "id": "5e8a0131-cf1f-403a-88c4-4df8fc5e83c5",
   "metadata": {},
   "outputs": [],
   "source": [
    "assert req().curl == \"\"\"curl -X POST '/post' -H 'accept: '\"\"\""
   ]
  },
  {
   "cell_type": "markdown",
   "id": "d9b1aa64-fc05-4a05-8408-a32ed57efb24",
   "metadata": {},
   "source": [
    "Dynammically adding the variable name for url and accept"
   ]
  },
  {
   "cell_type": "code",
   "execution_count": null,
   "id": "6e52c7fa-b2b4-4cd5-ad7b-4d717a7e7e56",
   "metadata": {},
   "outputs": [],
   "source": [
    "ENV['url'] = 'https://httpbin.org'\n",
    "ENV['accept'] = 'application/json'"
   ]
  },
  {
   "cell_type": "code",
   "execution_count": null,
   "id": "8bed9b41-0570-41ca-9687-f2b017c4c63a",
   "metadata": {},
   "outputs": [],
   "source": [
    "assert req().curl == \"\"\"curl -X POST 'https://httpbin.org/post' -H 'accept: application/json'\"\"\""
   ]
  },
  {
   "cell_type": "code",
   "execution_count": null,
   "id": "c8e6bbe3-dce5-4fc5-ac7d-84dd4ae9a7ec",
   "metadata": {},
   "outputs": [],
   "source": [
    "resp = req()()"
   ]
  },
  {
   "cell_type": "code",
   "execution_count": null,
   "id": "51d3d5c3-12e7-488e-a85a-cda246446ce0",
   "metadata": {},
   "outputs": [],
   "source": [
    "assert resp.status_code  == 200"
   ]
  },
  {
   "cell_type": "code",
   "execution_count": null,
   "id": "dcfd144b-2301-4ab1-a45a-253b1f2420fa",
   "metadata": {},
   "outputs": [
    {
     "data": {
      "text/plain": [
       "{\n",
       "    \"method\": \"POST\",\n",
       "    \"url\": \"https://httpbin.org/post\",\n",
       "    \"headers\": {\n",
       "        \"accept\": \"application/json\"\n",
       "    },\n",
       "    \"params\": \"None\",\n",
       "    \"body\": \"None\",\n",
       "    \"kwargs\": \"None\"\n",
       "}"
      ]
     },
     "execution_count": null,
     "metadata": {},
     "output_type": "execute_result"
    }
   ],
   "source": [
    "req()"
   ]
  },
  {
   "cell_type": "markdown",
   "id": "1786a673-07c8-4cd8-9234-4af9406ad327",
   "metadata": {},
   "source": [
    "##  Postman cookies testing"
   ]
  },
  {
   "cell_type": "code",
   "execution_count": null,
   "id": "0f355d52-ac68-4dc0-9f5a-9f29a3011520",
   "metadata": {},
   "outputs": [],
   "source": [
    "url = lambda: f\"{get_env('postman-url')}/get\"\n",
    "\n",
    "params = lambda : {\n",
    "    \"foo1\": f\"{get_env('foo1')}\",\n",
    "    \"foo2\": f\"{get_env('foo2')}\",\n",
    "}\n",
    "\n",
    "# Create the RestReqFactory instance\n",
    "req = RestReqFactory(\n",
    "    method=\"GET\",\n",
    "    url_provider=url,\n",
    "    params_provider=params,\n",
    ")"
   ]
  },
  {
   "cell_type": "code",
   "execution_count": null,
   "id": "8c522b77-4cd1-4851-b32b-4cd1740edb42",
   "metadata": {},
   "outputs": [],
   "source": [
    "ENV['foo1'] = 'foo1'\n",
    "ENV['foo2'] = 'foo2'\n",
    "ENV['postman-url']  = 'https://postman-echo.com'"
   ]
  },
  {
   "cell_type": "code",
   "execution_count": null,
   "id": "3e31c72b-f91f-4cee-bb00-256247b700e8",
   "metadata": {},
   "outputs": [],
   "source": [
    "res = req()()"
   ]
  },
  {
   "cell_type": "code",
   "execution_count": null,
   "id": "4504245e-ed20-4478-889e-ae0ad5c5ca71",
   "metadata": {},
   "outputs": [],
   "source": [
    "req.set_req_kwargs({'cookies' : res.cookies})"
   ]
  },
  {
   "cell_type": "code",
   "execution_count": null,
   "id": "ca70f82f-c591-46ec-917a-4cab6647b709",
   "metadata": {},
   "outputs": [
    {
     "data": {
      "text/plain": [
       "{\n",
       "    \"method\": \"GET\",\n",
       "    \"url\": \"https://postman-echo.com/get\",\n",
       "    \"headers\": \"None\",\n",
       "    \"params\": {\n",
       "        \"foo1\": \"foo1\",\n",
       "        \"foo2\": \"foo2\"\n",
       "    },\n",
       "    \"body\": \"None\",\n",
       "    \"kwargs\": {\n",
       "        \"cookies\": [\n",
       "            {\n",
       "                \"name\": \"sails.sid\",\n",
       "                \"value\": \"s%3AUyG_Y_gLShMIWH1w4jqFonJJycCUTljc.ppXEGzO2fQ50ShH3iQXU7mnT2DVMjD1OCsTGrtx1WAo\",\n",
       "                \"domain\": \"postman-echo.com\",\n",
       "                \"path\": \"/\"\n",
       "            }\n",
       "        ]\n",
       "    }\n",
       "}"
      ]
     },
     "execution_count": null,
     "metadata": {},
     "output_type": "execute_result"
    }
   ],
   "source": [
    "req()"
   ]
  }
 ],
 "metadata": {
  "kernelspec": {
   "display_name": "python3",
   "language": "python",
   "name": "python3"
  }
 },
 "nbformat": 4,
 "nbformat_minor": 5
}
