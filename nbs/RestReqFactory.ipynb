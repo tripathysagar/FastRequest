{
 "cells": [
  {
   "cell_type": "markdown",
   "id": "aad72ffb-a0a4-46bf-9cb2-923a70310e1a",
   "metadata": {},
   "source": [
    "# RestReqFactory"
   ]
  },
  {
   "cell_type": "code",
   "execution_count": null,
   "id": "afa630ea-7c50-4355-be86-660090bf1fe6",
   "metadata": {},
   "outputs": [],
   "source": [
    "#| default_exp RestReqFactory"
   ]
  },
  {
   "cell_type": "code",
   "execution_count": null,
   "id": "a41454ed-e072-43d3-a67f-42f7761ef1d3",
   "metadata": {},
   "outputs": [],
   "source": [
    "#| export\n",
    "from dataclasses import dataclass\n",
    "from typing import Union, Optional, Dict\n",
    "from collections import defaultdict\n",
    "import requests\n",
    "import json"
   ]
  },
  {
   "cell_type": "markdown",
   "id": "da018695-1d7d-469e-ba35-2c0201b1a8e3",
   "metadata": {},
   "source": [
    "## `ENV` map to handle env variables"
   ]
  },
  {
   "cell_type": "code",
   "execution_count": null,
   "id": "333560a6-9adc-4333-af8a-2f976be1c76f",
   "metadata": {},
   "outputs": [],
   "source": [
    "#| export\n",
    "ENV = defaultdict(lambda: None)\n",
    "def get_env(\n",
    "    x:str # key to filter  \n",
    "): \n",
    "    return ENV[x] if ENV[x] else ''"
   ]
  },
  {
   "cell_type": "code",
   "execution_count": null,
   "id": "3885e5d8-c8f0-4df3-82c4-56eaaf1172eb",
   "metadata": {},
   "outputs": [],
   "source": [
    "assert get_env('x') == ''"
   ]
  },
  {
   "cell_type": "code",
   "execution_count": null,
   "id": "65b24e00-7d78-4b1e-a876-2f01b8368fdf",
   "metadata": {},
   "outputs": [],
   "source": [
    "#| export\n",
    "def set_env(\n",
    "    key:str,  # key to map variable  \n",
    "    val:str   # value of the key\n",
    "): \n",
    "    ENV[key] = val"
   ]
  },
  {
   "cell_type": "code",
   "execution_count": null,
   "id": "2f1f5860-9803-49c3-b318-b1496a1ac813",
   "metadata": {},
   "outputs": [],
   "source": [
    "set_env('x', 3)\n",
    "assert get_env('x') == 3"
   ]
  },
  {
   "cell_type": "markdown",
   "id": "f47bf159-0257-475b-96d4-91f835408b44",
   "metadata": {},
   "source": [
    "## RestReq\n",
    "Base class to hold attributes of the rest request."
   ]
  },
  {
   "cell_type": "code",
   "execution_count": null,
   "id": "bc940533-bb47-4b6a-9633-87c92a5e8ef2",
   "metadata": {},
   "outputs": [],
   "source": [
    "#| export\n",
    "allowed_methods = [\"GET\",\"POST\",\"PUT\", \"DELETE\"]\n",
    "\n",
    "@dataclass\n",
    "class RestReq:\n",
    "    \"Rest request building method\"\n",
    "    method: str                           # represents the request method\n",
    "    url: str                              # URL \n",
    "    headers: Union[dict,None] = None      # headers\n",
    "    params: Union[dict,None]= None        # parameters\n",
    "    body: Union[dict, None] = None        # body\n",
    "    kwargs: Union[dict, None] = None      # addtional args of `requests.request`\n",
    "    \n",
    "    @property\n",
    "    def curl(self):\n",
    "        \"returing the curl repr of the rest request\"\n",
    "        params_str = \"?\"+\"&\".join([f\"{key}={value}\" for key, value in self.params.items()]) if self.params else ''\n",
    "            \n",
    "        curl_cmnd = f\"curl -X {self.method.upper()} '{self.url}{params_str}'\"\n",
    "\n",
    "        if self.headers:\n",
    "            for key, value in self.headers.items():\n",
    "                curl_cmnd += f\" -H '{key}: {value}'\"\n",
    "        \n",
    "        if self.body :\n",
    "            curl_cmnd += f\" -d '{json.dumps(self.body)}'\"\n",
    "            \n",
    "        return curl_cmnd\n",
    "\n",
    "    def __call__(self, **kwargs):\n",
    "        \"invoke rest request\"\n",
    "        response = None\n",
    "        try:\n",
    "            if self.method.upper() in allowed_methods:\n",
    "                response = requests.request(self.method, self.url, headers=self.headers, params=self.params, data=json.dumps(self.body), **kwargs)\n",
    "            else:\n",
    "                raise \"not a valid method\"\n",
    "        \n",
    "        except Exception as e:\n",
    "            print(f\"Error occurred while making the HTTP request: {e}\")\n",
    "        \n",
    "        finally:\n",
    "            return response\n",
    "\n",
    "    def parse_kwargs(self):\n",
    "        \"\"\"\n",
    "        process kwars set during the request, \n",
    "        for now it is converting cookies to dictionary/json parsable\n",
    "        \"\"\"\n",
    "        if self.kwargs:\n",
    "            for k,v in self.kwargs.items():\n",
    "                if k == 'cookies' and isinstance(self.kwargs[k], requests.cookies.RequestsCookieJar ):\n",
    "                    cookies = self.kwargs[k]\n",
    "                    arr = []\n",
    "                    for c in cookies:\n",
    "                        arr.append({\n",
    "                            'name': c.name,\n",
    "                            'value': c.value,\n",
    "                            'domain': c.domain,\n",
    "                            'path': c.path\n",
    "                        })\n",
    "                    \n",
    "                    self.kwargs[k] = arr\n",
    "\n",
    "    def __str__(self):\n",
    "        \"\"\"\n",
    "        print the request details as a JSON object.\n",
    "\n",
    "        Returns:\n",
    "            str: A JSON string representation of the request details.\n",
    "        \"\"\"\n",
    "        self.parse_kwargs()\n",
    "        req_details = {\n",
    "            'method': self.method,\n",
    "            'url': self.url,\n",
    "            'headers': self.headers if self.headers else 'None',\n",
    "            'params': self.params if self.params else 'None',\n",
    "            'body': self.body if self.body else 'None',\n",
    "            'kwargs': self.kwargs if self.kwargs else 'None'\n",
    "        }\n",
    "        \n",
    "        return json.dumps(req_details, indent=4)\n",
    "\n",
    "    __repr__ = __str__"
   ]
  },
  {
   "cell_type": "code",
   "execution_count": null,
   "id": "7910c549-60fb-4191-8c50-3cc5772781f5",
   "metadata": {},
   "outputs": [],
   "source": [
    "\n",
    "req = RestReq(\n",
    "    method=\"POST\",\n",
    "    url='https://httpbin.org/post',\n",
    "    headers={\n",
    "    \"accept\": \"application/json\",\n",
    "    },\n",
    ")\n"
   ]
  },
  {
   "cell_type": "markdown",
   "id": "3ce8c719-d59d-4fc7-b15f-939d00252467",
   "metadata": {},
   "source": [
    "### To extract curl repr"
   ]
  },
  {
   "cell_type": "code",
   "execution_count": null,
   "id": "faaf953b-25b1-4824-956f-97675aa73145",
   "metadata": {},
   "outputs": [
    {
     "data": {
      "text/plain": [
       "\"curl -X POST 'https://httpbin.org/post' -H 'accept: application/json'\""
      ]
     },
     "execution_count": null,
     "metadata": {},
     "output_type": "execute_result"
    }
   ],
   "source": [
    "req.curl"
   ]
  },
  {
   "cell_type": "markdown",
   "id": "47564d19-21d4-40f9-a139-11e77944ad72",
   "metadata": {},
   "source": [
    "### To invoke the rest call"
   ]
  },
  {
   "cell_type": "code",
   "execution_count": null,
   "id": "ce6646f0-d1de-462d-b4ce-b3678d12a0d0",
   "metadata": {},
   "outputs": [
    {
     "data": {
      "text/plain": [
       "requests.models.Response"
      ]
     },
     "execution_count": null,
     "metadata": {},
     "output_type": "execute_result"
    }
   ],
   "source": [
    "resp = req()\n",
    "type(resp)"
   ]
  },
  {
   "cell_type": "markdown",
   "id": "27cd5be5-97cc-4043-bc01-65b39dbbc534",
   "metadata": {},
   "source": [
    "## RestReqFactory\n",
    "Class to bind the lambda function to create `RestReq` object`"
   ]
  },
  {
   "cell_type": "code",
   "execution_count": null,
   "id": "4d1061b9-ffc0-4b1c-888a-a204f77d64a5",
   "metadata": {},
   "outputs": [],
   "source": [
    "#| export\n",
    "class RestReqFactory:\n",
    "    \"Class to bind the lambda function to create RestReq object\"\n",
    "    def __init__(self, method:str,             # represents the request method\n",
    "                 url_provider:lambda:None,     # function returning url \n",
    "                 headers_provider=lambda:None, # function returning headers \n",
    "                 params_provider=lambda:None,  # function returning params \n",
    "                 body_provider=lambda:None     # function returning params \n",
    "                ):\n",
    "        self.method = method                      \n",
    "        self.url_provider = url_provider\n",
    "        self.headers_provider = headers_provider\n",
    "        self.params_provider = params_provider\n",
    "        self.body_provider = body_provider\n",
    "        self.kwargs = None\n",
    "    \n",
    "    def __call__(self):\n",
    "        return RestReq(\n",
    "            method=self.method,\n",
    "            url=self.url_provider(),\n",
    "            headers=self.headers_provider(),\n",
    "            params=self.params_provider(),\n",
    "            body=self.body_provider(),\n",
    "            kwargs=self.kwargs \n",
    "        )\n",
    "        \n",
    "    def set_req_kwargs(self, kwargs):\n",
    "        \" set `RestReq` object with the `kwargs`\"\n",
    "        self.kwargs = kwargs"
   ]
  },
  {
   "cell_type": "markdown",
   "id": "d0ed382d-6fc2-41fe-942f-1bc746d0a331",
   "metadata": {},
   "source": [
    "### Build basic `RestReqFactory` object"
   ]
  },
  {
   "cell_type": "code",
   "execution_count": null,
   "id": "e68e9254-23a9-4417-8187-eb871fe877ea",
   "metadata": {},
   "outputs": [],
   "source": [
    "url = lambda: f\"{get_env('url')}/post\"\n",
    "\n",
    "head = lambda : {\n",
    "    \"accept\": f\"{get_env('accept')}\",\n",
    "}\n",
    "\n",
    "# Create the RestReqFactory instance\n",
    "req = RestReqFactory(\n",
    "    method=\"POST\",\n",
    "    url_provider=url,\n",
    "    headers_provider=head,\n",
    ")"
   ]
  },
  {
   "cell_type": "code",
   "execution_count": null,
   "id": "5e8a0131-cf1f-403a-88c4-4df8fc5e83c5",
   "metadata": {},
   "outputs": [],
   "source": [
    "assert req().curl == \"\"\"curl -X POST '/post' -H 'accept: '\"\"\""
   ]
  },
  {
   "cell_type": "markdown",
   "id": "d9b1aa64-fc05-4a05-8408-a32ed57efb24",
   "metadata": {},
   "source": [
    "### leveraging Dynammic nature of `ENV` "
   ]
  },
  {
   "cell_type": "code",
   "execution_count": null,
   "id": "6e52c7fa-b2b4-4cd5-ad7b-4d717a7e7e56",
   "metadata": {},
   "outputs": [],
   "source": [
    "set_env('url', 'https://httpbin.org')\n",
    "set_env('accept', 'application/json')"
   ]
  },
  {
   "cell_type": "code",
   "execution_count": null,
   "id": "8bed9b41-0570-41ca-9687-f2b017c4c63a",
   "metadata": {},
   "outputs": [],
   "source": [
    "assert req().curl == \"\"\"curl -X POST 'https://httpbin.org/post' -H 'accept: application/json'\"\"\""
   ]
  },
  {
   "cell_type": "code",
   "execution_count": null,
   "id": "c8e6bbe3-dce5-4fc5-ac7d-84dd4ae9a7ec",
   "metadata": {},
   "outputs": [],
   "source": [
    "resp = req()()\n",
    "assert resp.status_code  == 200"
   ]
  },
  {
   "cell_type": "code",
   "execution_count": null,
   "id": "dcfd144b-2301-4ab1-a45a-253b1f2420fa",
   "metadata": {},
   "outputs": [
    {
     "data": {
      "text/plain": [
       "{\n",
       "    \"method\": \"POST\",\n",
       "    \"url\": \"https://httpbin.org/post\",\n",
       "    \"headers\": {\n",
       "        \"accept\": \"application/json\"\n",
       "    },\n",
       "    \"params\": \"None\",\n",
       "    \"body\": \"None\",\n",
       "    \"kwargs\": \"None\"\n",
       "}"
      ]
     },
     "execution_count": null,
     "metadata": {},
     "output_type": "execute_result"
    }
   ],
   "source": [
    "req()"
   ]
  },
  {
   "cell_type": "markdown",
   "id": "1786a673-07c8-4cd8-9234-4af9406ad327",
   "metadata": {},
   "source": [
    "### Cookies testing"
   ]
  },
  {
   "cell_type": "code",
   "execution_count": null,
   "id": "0f355d52-ac68-4dc0-9f5a-9f29a3011520",
   "metadata": {},
   "outputs": [],
   "source": [
    "url = lambda: f\"{get_env('postman-url')}/get\"\n",
    "\n",
    "params = lambda : {\n",
    "    \"foo1\": f\"{get_env('foo1')}\",\n",
    "    \"foo2\": f\"{get_env('foo2')}\",\n",
    "}\n",
    "\n",
    "# Create the RestReqFactory instance\n",
    "req = RestReqFactory(\n",
    "    method=\"GET\",\n",
    "    url_provider=url,\n",
    "    params_provider=params,\n",
    ")"
   ]
  },
  {
   "cell_type": "code",
   "execution_count": null,
   "id": "8c522b77-4cd1-4851-b32b-4cd1740edb42",
   "metadata": {},
   "outputs": [],
   "source": [
    "set_env('foo1', 'foo1')\n",
    "set_env('foo2', 'foo2')\n",
    "set_env('postman-url', 'https://postman-echo.com')"
   ]
  },
  {
   "cell_type": "markdown",
   "id": "6967e19f-8549-484c-8c89-5c7cadcae818",
   "metadata": {},
   "source": [
    "Setting up the kwargs field for the req object "
   ]
  },
  {
   "cell_type": "code",
   "execution_count": null,
   "id": "4504245e-ed20-4478-889e-ae0ad5c5ca71",
   "metadata": {},
   "outputs": [],
   "source": [
    "res = req()()\n",
    "assert res.status_code == 200\n",
    "req.set_req_kwargs({'cookies' : res.cookies})"
   ]
  },
  {
   "cell_type": "markdown",
   "id": "cbc8afa9-6c24-4326-bc62-7b7860558e65",
   "metadata": {},
   "source": [
    "check `__str__` and `__repr__`"
   ]
  },
  {
   "cell_type": "code",
   "execution_count": null,
   "id": "ca70f82f-c591-46ec-917a-4cab6647b709",
   "metadata": {},
   "outputs": [
    {
     "data": {
      "text/plain": [
       "{\n",
       "    \"method\": \"GET\",\n",
       "    \"url\": \"https://postman-echo.com/get\",\n",
       "    \"headers\": \"None\",\n",
       "    \"params\": {\n",
       "        \"foo1\": \"foo1\",\n",
       "        \"foo2\": \"foo2\"\n",
       "    },\n",
       "    \"body\": \"None\",\n",
       "    \"kwargs\": {\n",
       "        \"cookies\": [\n",
       "            {\n",
       "                \"name\": \"sails.sid\",\n",
       "                \"value\": \"s%3Af2Ma6_qtUOO6o8rLJuS0_oGC3nf42AGn.4f5n7pa3spk6owtt0P1lt4lsELJVx%2FTZUwJ7w97sb6Y\",\n",
       "                \"domain\": \"postman-echo.com\",\n",
       "                \"path\": \"/\"\n",
       "            }\n",
       "        ]\n",
       "    }\n",
       "}"
      ]
     },
     "execution_count": null,
     "metadata": {},
     "output_type": "execute_result"
    }
   ],
   "source": [
    "req()"
   ]
  },
  {
   "cell_type": "code",
   "execution_count": null,
   "id": "94af572e-90ea-43ad-9b6d-57c23a9cfecd",
   "metadata": {},
   "outputs": [],
   "source": [
    "#| hide\n",
    "import nbdev"
   ]
  },
  {
   "cell_type": "code",
   "execution_count": null,
   "id": "9284572e-e325-4a35-80f1-4bb76fbf641e",
   "metadata": {},
   "outputs": [],
   "source": [
    "#| hide\n",
    "nbdev.export.nb_export('RestReqFactory.ipynb','../FastRequest/')"
   ]
  }
 ],
 "metadata": {
  "kernelspec": {
   "display_name": "python3",
   "language": "python",
   "name": "python3"
  }
 },
 "nbformat": 4,
 "nbformat_minor": 5
}
