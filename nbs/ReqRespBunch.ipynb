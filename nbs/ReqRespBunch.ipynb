{
 "cells": [
  {
   "cell_type": "markdown",
   "id": "aefff9dd-a47d-43bd-8589-68c8126bc6e4",
   "metadata": {},
   "source": [
    "# ReqRespBunch\n",
    "\n",
    "For keeping  track for request, response and kwargs for a given list of `RestReqFactory`"
   ]
  },
  {
   "cell_type": "code",
   "execution_count": null,
   "id": "356020cb-595e-4730-ab4b-6415614da2b4",
   "metadata": {},
   "outputs": [],
   "source": [
    "#| default_exp\n",
    "from exp.nb_RestReqFactory import *"
   ]
  },
  {
   "cell_type": "code",
   "execution_count": null,
   "id": "ef6eae62-793b-4959-8957-903e8e1842d4",
   "metadata": {},
   "outputs": [],
   "source": [
    "#| export \n",
    "class ReqRespBunch:\n",
    "    def __init__(self, reqs_lis):\n",
    "        \"\"\"\n",
    "        Initializes a ReqRespBunch object.\n",
    "\n",
    "        Args:\n",
    "            reqs_lis (list): List of requests to be stored in the object.\n",
    "\n",
    "        Returns:\n",
    "            None\n",
    "        \"\"\"\n",
    "        no = len(reqs_lis)\n",
    "        self._reqs = reqs_lis\n",
    "        self._resps = [None] * no\n",
    "        self._kwargs = [{} for _ in range(no)]\n",
    "\n",
    "    @property\n",
    "    def reqs(self):\n",
    "        \"\"\"\n",
    "        Returns the list of requests stored in the object.\n",
    "\n",
    "        Returns:\n",
    "            list: List of requests.\n",
    "        \"\"\"\n",
    "        return self._reqs\n",
    "\n",
    "    @property\n",
    "    def resps(self):\n",
    "        \"\"\"\n",
    "        Returns the list of responses stored in the object.\n",
    "\n",
    "        Returns:\n",
    "            list: List of responses.\n",
    "        \"\"\"\n",
    "        return self._resps\n",
    "\n",
    "    @property\n",
    "    def kwargs(self):\n",
    "        \"\"\"\n",
    "        Returns the list of kwargs (arguments) associated with each request.\n",
    "\n",
    "        Returns:\n",
    "            list: List of dictionaries containing kwargs for each request.\n",
    "        \"\"\"\n",
    "        return self._kwargs\n",
    "\n",
    "\n",
    "    def set_resp(self, idx, val):\n",
    "        \"\"\"\n",
    "        Sets the response at the specified index in the response list.\n",
    "\n",
    "        Args:\n",
    "            idx (int): Index at which to set the response.\n",
    "            val: Value to set as the response.\n",
    "\n",
    "        Returns:\n",
    "            None\n",
    "        \"\"\"\n",
    "        self._resps[idx] = val\n",
    "\n",
    "    def set_kwargs(self, idx, val):\n",
    "        \"\"\"\n",
    "        Sets the kwargs (arguments) for the request at the specified index.\n",
    "\n",
    "        Args:\n",
    "            idx (int): Index of the request.\n",
    "            val (tuple): Tuple containing key-value pair to set as kwargs.\n",
    "\n",
    "        Returns:\n",
    "            None\n",
    "        \"\"\"\n",
    "        self._kwargs[idx][val[0]] = val[1]\n",
    "        \n",
    "    \n",
    "    def __iter__(self):\n",
    "        self._idx = 0\n",
    "        return self\n",
    "\n",
    "    def __next__(self):\n",
    "        if self._idx <  len(self.kwargs):\n",
    "            result = (self._reqs[self._idx], self._resps[self._idx])\n",
    "            self._idx += 1\n",
    "            return result\n",
    "        else:\n",
    "            raise StopIteration"
   ]
  },
  {
   "cell_type": "code",
   "execution_count": null,
   "id": "ff875d59-b0cb-42a9-b190-4285268ce6f6",
   "metadata": {},
   "outputs": [],
   "source": [
    "a = ReqRespBunch([1, 2])\n",
    "assert [1, 2] == a.reqs  \n",
    "a.set_resp(0, \"yo\")\n",
    "a.set_resp(1, 'another_value')\n",
    "assert ['yo', 'another_value'] == a.resps  "
   ]
  },
  {
   "cell_type": "code",
   "execution_count": null,
   "id": "85cb576a-6ea9-461e-a936-4522d7e083f8",
   "metadata": {},
   "outputs": [],
   "source": [
    "a.set_kwargs(0, (\"yo\", 1))\n",
    "a.set_kwargs(1, (\"top\", 1))\n",
    "a.set_kwargs(1, (\"top1\", 1))\n",
    "a.set_kwargs(1, ('another_value', 1))\n",
    "assert a.kwargs == [{'yo': 1},{'top': 1, 'top1': 1, 'another_value': 1}]"
   ]
  },
  {
   "cell_type": "code",
   "execution_count": null,
   "id": "2dadd9ef-2936-4421-a110-5616f208d7a5",
   "metadata": {},
   "outputs": [],
   "source": [
    "ENV['url'] = 'https://fakerestapi.azurewebsites.net'\n",
    "ENV['CT'] = 'application/json'\n",
    "ENV['uname'] = 'string'\n"
   ]
  },
  {
   "cell_type": "code",
   "execution_count": null,
   "id": "65ea2eb9-f152-4f7b-9b76-28d7d78e5f80",
   "metadata": {},
   "outputs": [],
   "source": [
    "url = lambda : f\"{get_env('url')}/api/v1/Users/1\"\n",
    "\n",
    "\n",
    "headers = lambda: {\n",
    "  'accept': '*/*',\n",
    "  'Content-Type': f\"{get_env('CT')}; v=1.0\"\n",
    "}\n",
    "body = lambda: {\n",
    "    \"id\":0,\n",
    "    \"userName\":f\"{get_env('uname')}\",\n",
    "    \"password\":\"string\"\n",
    "}\n",
    "req1 = RestReqFactory(\n",
    "    method=\"PUT\",\n",
    "    url_provider=url,\n",
    "    headers_provider=headers,\n",
    "    body_provider=body\n",
    ")"
   ]
  },
  {
   "cell_type": "code",
   "execution_count": null,
   "id": "cd2d9c58-4f70-4e6a-9d01-8d233f0407ef",
   "metadata": {},
   "outputs": [],
   "source": [
    "req_lis = ReqRespBunch([req1])"
   ]
  },
  {
   "cell_type": "code",
   "execution_count": null,
   "id": "c2b29fdb-0cd1-46de-ac64-0ec2c94a3c9b",
   "metadata": {},
   "outputs": [
    {
     "data": {
      "text/plain": [
       "(exp.nb_RestReqFactory.RestReqFactory, exp.nb_RestReqFactory.RestReq)"
      ]
     },
     "execution_count": null,
     "metadata": {},
     "output_type": "execute_result"
    }
   ],
   "source": [
    "type(req_lis.reqs[0]), type(req_lis.reqs[0]())"
   ]
  },
  {
   "cell_type": "code",
   "execution_count": null,
   "id": "d50c9f81-3a13-4de9-b138-7f2fa73aef37",
   "metadata": {},
   "outputs": [],
   "source": [
    "req_lis.set_resp(0,req_lis.reqs[0]()())"
   ]
  },
  {
   "cell_type": "code",
   "execution_count": null,
   "id": "260f8665-470d-4e84-b914-fa2a4057e608",
   "metadata": {},
   "outputs": [
    {
     "data": {
      "text/plain": [
       "<Response [200]>"
      ]
     },
     "execution_count": null,
     "metadata": {},
     "output_type": "execute_result"
    }
   ],
   "source": [
    "res = req_lis.resps[0]\n",
    "res"
   ]
  },
  {
   "cell_type": "code",
   "execution_count": null,
   "id": "44c1132e-35bb-46da-b325-cd99cc9ab8cc",
   "metadata": {},
   "outputs": [],
   "source": [
    "#| export \n",
    "class resp_str():\n",
    "    def __init__(self, resp):\n",
    "        self.resp = resp\n",
    "\n",
    "    def __repr__(self):\n",
    "        response_info = {\n",
    "            'url': self.resp.url,\n",
    "            'status': self.resp.status_code,\n",
    "            'headers': dict(self.resp.headers),\n",
    "            'cookies': self.resp.cookies.get_dict(),\n",
    "            'elapsed': str(self.resp.elapsed),\n",
    "            'text': self.resp.text[:1000]  # Limit to first 1000 characters\n",
    "        }\n",
    "    \n",
    "        # If the response contains JSON, include it in the output\n",
    "        try:\n",
    "            response_info['json'] = self.resp.json()\n",
    "        except json.JSONDecodeError:\n",
    "            response_info['json'] = 'No JSON data'\n",
    "    \n",
    "        return json.dumps(response_info, indent=4)"
   ]
  },
  {
   "cell_type": "code",
   "execution_count": null,
   "id": "89bb061b-ab34-4852-a727-4ed62a44601b",
   "metadata": {},
   "outputs": [
    {
     "data": {
      "text/plain": [
       "{\n",
       "    \"url\": \"https://fakerestapi.azurewebsites.net/api/v1/Users/1\",\n",
       "    \"status\": 200,\n",
       "    \"headers\": {\n",
       "        \"Content-Type\": \"application/json; charset=utf-8; v=1.0\",\n",
       "        \"Date\": \"Fri, 07 Jun 2024 06:09:52 GMT\",\n",
       "        \"Server\": \"Kestrel\",\n",
       "        \"Transfer-Encoding\": \"chunked\",\n",
       "        \"api-supported-versions\": \"1.0\"\n",
       "    },\n",
       "    \"cookies\": {},\n",
       "    \"elapsed\": \"0:00:00.690564\",\n",
       "    \"text\": \"{\\\"id\\\":0,\\\"userName\\\":\\\"string\\\",\\\"password\\\":\\\"string\\\"}\",\n",
       "    \"json\": {\n",
       "        \"id\": 0,\n",
       "        \"userName\": \"string\",\n",
       "        \"password\": \"string\"\n",
       "    }\n",
       "}"
      ]
     },
     "execution_count": null,
     "metadata": {},
     "output_type": "execute_result"
    }
   ],
   "source": [
    "p = resp_str(res)\n",
    "p"
   ]
  },
  {
   "cell_type": "code",
   "execution_count": null,
   "id": "aee2252a-6ed7-4f7b-a7ad-04b9647264fa",
   "metadata": {},
   "outputs": [],
   "source": [
    "#| export \n",
    "def print_req_resp(req_resp_bunch: ReqRespBunch):\n",
    "    data = []\n",
    "    for req, resp in req_resp_bunch:\n",
    "        req_str = req()\n",
    "        res_str = resp_str(resp)\n",
    "        \n",
    "        \n",
    "        data.append({\n",
    "            'request': req_str, \n",
    "            'response': res_str})\n",
    "    \n",
    "    \n",
    "    return data"
   ]
  },
  {
   "cell_type": "code",
   "execution_count": null,
   "id": "61ec1a37-4f04-4bfa-ba79-1e65e8303947",
   "metadata": {},
   "outputs": [],
   "source": [
    "data = print_req_resp(req_lis)"
   ]
  },
  {
   "cell_type": "code",
   "execution_count": null,
   "id": "b6fee812-a66d-442e-b993-7b5d6f096252",
   "metadata": {},
   "outputs": [
    {
     "data": {
      "text/plain": [
       "[{'request': {\n",
       "      \"method\": \"PUT\",\n",
       "      \"url\": \"https://fakerestapi.azurewebsites.net/api/v1/Users/1\",\n",
       "      \"headers\": {\n",
       "          \"accept\": \"*/*\",\n",
       "          \"Content-Type\": \"application/json; v=1.0\"\n",
       "      },\n",
       "      \"params\": \"None\",\n",
       "      \"body\": {\n",
       "          \"id\": 0,\n",
       "          \"userName\": \"string\",\n",
       "          \"password\": \"string\"\n",
       "      },\n",
       "      \"kwargs\": \"None\"\n",
       "  },\n",
       "  'response': {\n",
       "      \"url\": \"https://fakerestapi.azurewebsites.net/api/v1/Users/1\",\n",
       "      \"status\": 200,\n",
       "      \"headers\": {\n",
       "          \"Content-Type\": \"application/json; charset=utf-8; v=1.0\",\n",
       "          \"Date\": \"Fri, 07 Jun 2024 06:09:52 GMT\",\n",
       "          \"Server\": \"Kestrel\",\n",
       "          \"Transfer-Encoding\": \"chunked\",\n",
       "          \"api-supported-versions\": \"1.0\"\n",
       "      },\n",
       "      \"cookies\": {},\n",
       "      \"elapsed\": \"0:00:00.690564\",\n",
       "      \"text\": \"{\\\"id\\\":0,\\\"userName\\\":\\\"string\\\",\\\"password\\\":\\\"string\\\"}\",\n",
       "      \"json\": {\n",
       "          \"id\": 0,\n",
       "          \"userName\": \"string\",\n",
       "          \"password\": \"string\"\n",
       "      }\n",
       "  }}]"
      ]
     },
     "execution_count": null,
     "metadata": {},
     "output_type": "execute_result"
    }
   ],
   "source": [
    "data"
   ]
  }
 ],
 "metadata": {
  "kernelspec": {
   "display_name": "python3",
   "language": "python",
   "name": "python3"
  }
 },
 "nbformat": 4,
 "nbformat_minor": 5
}
