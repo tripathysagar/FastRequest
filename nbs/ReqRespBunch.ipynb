{
 "cells": [
  {
   "cell_type": "markdown",
   "id": "69875a8b-a4ea-4492-aec6-6da4303ef98f",
   "metadata": {},
   "source": [
    "# ReqRespBunch\n"
   ]
  },
  {
   "cell_type": "code",
   "execution_count": null,
   "id": "1094f700-e1c0-4878-9c9a-2590edb4e68d",
   "metadata": {},
   "outputs": [],
   "source": [
    "#| default_exp ReqRespBunch"
   ]
  },
  {
   "cell_type": "code",
   "execution_count": null,
   "id": "a68c27c5-1407-47fb-9eb6-4c15d706e0df",
   "metadata": {},
   "outputs": [],
   "source": [
    "#| export \n",
    "from FastRequest.RestReqFactory import *\n",
    "from fastcore.basics import patch\n",
    "import requests\n",
    "import json"
   ]
  },
  {
   "cell_type": "code",
   "execution_count": null,
   "id": "7de4609d-3e8c-4a9f-8d6f-cc32031d2d2d",
   "metadata": {},
   "outputs": [],
   "source": [
    "#| export\n",
    "from typing import List\n",
    "class ReqRespBunch:\n",
    "    \"\"\"\n",
    "    given reqs_lis of type `RestReqFactory`, itcreates response and kwargs for each element of list  \n",
    "    provides factorey method for getter as well as setter forthe respnse and kwargs set for each request\n",
    "    \"\"\"\n",
    "    def __init__(self, \n",
    "                 reqs_lis:List['FastRequest.RestReqFactory.RestReqFactory']=None # list of RestReqFactory \n",
    "                ):\n",
    "        \"\"\"\n",
    "        Initializes a ReqRespBunch object.\n",
    "\n",
    "        Args:\n",
    "            reqs_lis (list): List of requests to be stored in the object.\n",
    "\n",
    "        Returns:\n",
    "            None\n",
    "        \"\"\"\n",
    "        self._reqs = reqs_lis\n",
    "        self._resps = [None] * len(reqs_lis)\n",
    "        self._kwargs = [{} for _ in range(len(reqs_lis))]\n",
    "\n",
    "    @property\n",
    "    def reqs(self):\n",
    "        \"\"\"\n",
    "        Returns the list of requests stored in the object.\n",
    "\n",
    "        Returns:\n",
    "            list: List of requests.\n",
    "        \"\"\"\n",
    "        return self._reqs\n",
    "\n",
    "    @property\n",
    "    def resps(self):\n",
    "        \"\"\"\n",
    "        Returns the list of responses stored in the object.\n",
    "\n",
    "        Returns:\n",
    "            list: List of responses.\n",
    "        \"\"\"\n",
    "        return self._resps\n",
    "\n",
    "    @property\n",
    "    def kwargs(self):\n",
    "        \"\"\"\n",
    "        Returns the list of kwargs (arguments) associated with each request.\n",
    "\n",
    "        Returns:\n",
    "            list: List of dictionaries containing kwargs for each request.\n",
    "        \"\"\"\n",
    "        return self._kwargs\n",
    "\n",
    "    def set_resp(self, idx, val):\n",
    "        \"\"\"\n",
    "        Sets the response at the specified index in the response list.\n",
    "\n",
    "        Args:\n",
    "            idx (int): Index at which to set the response.\n",
    "            val: Value to set as the response.\n",
    "\n",
    "        Returns:\n",
    "            None\n",
    "        \"\"\"\n",
    "        self._resps[idx] = val\n",
    "\n",
    "    def set_kwargs(self, idx, val):\n",
    "        \"\"\"\n",
    "        Sets the kwargs (arguments) for the request at the specified index.\n",
    "\n",
    "        Args:\n",
    "            idx (int): Index of the request.\n",
    "            val (tuple): Tuple containing key-value pair to set as kwargs.\n",
    "\n",
    "        Returns:\n",
    "            None\n",
    "        \"\"\"\n",
    "        self._kwargs[idx][val[0]] = val[1]\n",
    "\n",
    "    def __len__(self):\n",
    "        return len(self.reqs)\n",
    "        \n",
    "    def __iter__(self):\n",
    "        self._idx = 0\n",
    "        return self\n",
    "\n",
    "    def __next__(self):\n",
    "        if self._idx <  len(self.kwargs):\n",
    "            result = (self._reqs[self._idx], self._resps[self._idx])\n",
    "            self._idx += 1\n",
    "            return result\n",
    "        else:\n",
    "            raise StopIteration\n",
    "\n",
    "    @property\n",
    "    def print_req_resp(self):\n",
    "        \" returns the request and response in nice formatted way\"\n",
    "        data = []\n",
    "        for req, res in self:\n",
    "            req_str = req()\n",
    "            res_str = res\n",
    "    \n",
    "    \n",
    "            data.append({\n",
    "                'request': req_str,\n",
    "                'response': res_str})\n",
    "    \n",
    "    \n",
    "        return data"
   ]
  },
  {
   "cell_type": "code",
   "execution_count": null,
   "id": "7feac912-1faf-44cb-98f5-15d84ddbe94c",
   "metadata": {},
   "outputs": [
    {
     "data": {
      "text/plain": [
       "2"
      ]
     },
     "execution_count": null,
     "metadata": {},
     "output_type": "execute_result"
    }
   ],
   "source": [
    "# Create the RestReqFactory instance\n",
    "req1 = RestReqFactory(\n",
    "    method=\"GET\",\n",
    "    url_provider= lambda: f\"{get_env('url1')}/get\",\n",
    "    params_provider= lambda : {\n",
    "        \"foo1\": f\"{get_env('foo1')}\",\n",
    "        \"foo2\": f\"{get_env('foo2')}\",\n",
    "    }\n",
    ")\n",
    "req2 = RestReqFactory(\n",
    "    method=\"GET\",\n",
    "    url_provider= lambda : f\"{get_env('url2')}/api/users/2\",\n",
    ")\n",
    "reqs = ReqRespBunch([req1, req2])\n",
    "len(reqs)"
   ]
  },
  {
   "cell_type": "code",
   "execution_count": null,
   "id": "46652cc1-2447-44a7-b514-bf44745b8c4f",
   "metadata": {},
   "outputs": [
    {
     "data": {
      "text/plain": [
       "{\n",
       "    \"method\": \"GET\",\n",
       "    \"url\": \"/get\",\n",
       "    \"headers\": \"None\",\n",
       "    \"params\": {\n",
       "        \"foo1\": \"\",\n",
       "        \"foo2\": \"\"\n",
       "    },\n",
       "    \"body\": \"None\",\n",
       "    \"kwargs\": \"None\"\n",
       "}"
      ]
     },
     "execution_count": null,
     "metadata": {},
     "output_type": "execute_result"
    }
   ],
   "source": [
    "req1()"
   ]
  },
  {
   "cell_type": "code",
   "execution_count": null,
   "id": "da0c6d38-e3db-450d-a93d-5910d5ec1cd6",
   "metadata": {},
   "outputs": [],
   "source": [
    "set_env('foo1', 'foo1')\n",
    "set_env('foo2', 'foo2')\n",
    "set_env('url1', 'https://postman-echo.com')\n",
    "set_env('url2', 'https://reqres.in')"
   ]
  },
  {
   "cell_type": "code",
   "execution_count": null,
   "id": "eadc108b-e372-4eea-9147-2c0a5587bad0",
   "metadata": {},
   "outputs": [],
   "source": [
    "#| export\n",
    "@patch\n",
    "def __repr__(self:requests.models.Response):\n",
    "    \" monkey patch the __repr__ of the repsone object\"\n",
    "    response_info = {\n",
    "            'url': self.url,\n",
    "            'status': self.status_code,\n",
    "            'headers': dict(self.headers),\n",
    "            'cookies': self.cookies.get_dict(),\n",
    "            'elapsed': str(self.elapsed),\n",
    "            'text': self.text[:1000]  # Limit to first 1000 characters\n",
    "        }\n",
    "\n",
    "    # If the response contains JSON, include it in the output\n",
    "    try:\n",
    "        response_info['json'] = self.json()\n",
    "    except json.JSONDecodeError:\n",
    "        response_info['json'] = 'No JSON data'\n",
    "\n",
    "    return json.dumps(response_info, indent=4)\n",
    "\n",
    "@patch\n",
    "def __str__(self:requests.models.Response):\n",
    "    \" monkey patch the __str__ of the repsone object\"\n",
    "    \n",
    "    return self.__repr__()"
   ]
  },
  {
   "cell_type": "code",
   "execution_count": null,
   "id": "b05b105a-4df6-4749-80db-a096c14747cf",
   "metadata": {},
   "outputs": [
    {
     "data": {
      "text/plain": [
       "requests.models.Response"
      ]
     },
     "execution_count": null,
     "metadata": {},
     "output_type": "execute_result"
    }
   ],
   "source": [
    "resp = req1()()\n",
    "type(resp)"
   ]
  },
  {
   "cell_type": "code",
   "execution_count": null,
   "id": "e086f4a6-d554-4206-8e2f-9167fdebfb36",
   "metadata": {},
   "outputs": [],
   "source": [
    "reqs.set_resp(0, req1()())\n",
    "reqs.set_resp(1, req2()())"
   ]
  },
  {
   "cell_type": "code",
   "execution_count": null,
   "id": "941494c4-fabe-4253-be95-98f3fd64de2b",
   "metadata": {},
   "outputs": [],
   "source": [
    "#| hide\n",
    "assert reqs.resps[0] != str(req1()()) # as various object will change like Date and ETag "
   ]
  },
  {
   "cell_type": "markdown",
   "id": "d593b774-04b5-42fe-a122-a8b8115164d2",
   "metadata": {},
   "source": [
    "### Printing requset and response  in a pair in json  format"
   ]
  },
  {
   "cell_type": "code",
   "execution_count": null,
   "id": "6cbc3be5-481a-4bca-b4ca-c8e99493d78c",
   "metadata": {},
   "outputs": [
    {
     "data": {
      "text/plain": [
       "[{'request': {\n",
       "      \"method\": \"GET\",\n",
       "      \"url\": \"https://postman-echo.com/get\",\n",
       "      \"headers\": \"None\",\n",
       "      \"params\": {\n",
       "          \"foo1\": \"foo1\",\n",
       "          \"foo2\": \"foo2\"\n",
       "      },\n",
       "      \"body\": \"None\",\n",
       "      \"kwargs\": \"None\"\n",
       "  },\n",
       "  'response': {\n",
       "      \"url\": \"https://postman-echo.com/get?foo1=foo1&foo2=foo2\",\n",
       "      \"status\": 200,\n",
       "      \"headers\": {\n",
       "          \"Date\": \"Mon, 10 Jun 2024 14:31:51 GMT\",\n",
       "          \"Content-Type\": \"application/json; charset=utf-8\",\n",
       "          \"Content-Length\": \"512\",\n",
       "          \"Connection\": \"close\",\n",
       "          \"Server\": \"nginx/1.25.3\",\n",
       "          \"ETag\": \"W/\\\"200-3Jb3WQoBKDrr9SPJsIdfXrK4rlY\\\"\",\n",
       "          \"set-cookie\": \"sails.sid=s%3A5xSPUWYL9dBQ2vDPzrHJgPTl4ULeKY6x.vDQ%2F42S8EmWnOswcfTV8dh0lr0Be6Z9mxokjmKw1uF4; Path=/; HttpOnly\"\n",
       "      },\n",
       "      \"cookies\": {\n",
       "          \"sails.sid\": \"s%3A5xSPUWYL9dBQ2vDPzrHJgPTl4ULeKY6x.vDQ%2F42S8EmWnOswcfTV8dh0lr0Be6Z9mxokjmKw1uF4\"\n",
       "      },\n",
       "      \"elapsed\": \"0:00:00.930238\",\n",
       "      \"text\": \"{\\n  \\\"args\\\": {\\n    \\\"foo1\\\": \\\"foo1\\\",\\n    \\\"foo2\\\": \\\"foo2\\\"\\n  },\\n  \\\"headers\\\": {\\n    \\\"host\\\": \\\"postman-echo.com\\\",\\n    \\\"x-forwarded-proto\\\": \\\"http\\\",\\n    \\\"x-request-start\\\": \\\"t=1718029911.264\\\",\\n    \\\"connection\\\": \\\"close\\\",\\n    \\\"content-length\\\": \\\"4\\\",\\n    \\\"x-forwarded-port\\\": \\\"443\\\",\\n    \\\"x-amzn-trace-id\\\": \\\"Root=1-66670e57-0df8c3b639c5022119b8e6b4\\\",\\n    \\\"user-agent\\\": \\\"python-requests/2.31.0\\\",\\n    \\\"accept-encoding\\\": \\\"gzip, deflate, br, zstd\\\",\\n    \\\"accept\\\": \\\"*/*\\\"\\n  },\\n  \\\"url\\\": \\\"http://postman-echo.com/get?foo1=foo1&foo2=foo2\\\"\\n}\",\n",
       "      \"json\": {\n",
       "          \"args\": {\n",
       "              \"foo1\": \"foo1\",\n",
       "              \"foo2\": \"foo2\"\n",
       "          },\n",
       "          \"headers\": {\n",
       "              \"host\": \"postman-echo.com\",\n",
       "              \"x-forwarded-proto\": \"http\",\n",
       "              \"x-request-start\": \"t=1718029911.264\",\n",
       "              \"connection\": \"close\",\n",
       "              \"content-length\": \"4\",\n",
       "              \"x-forwarded-port\": \"443\",\n",
       "              \"x-amzn-trace-id\": \"Root=1-66670e57-0df8c3b639c5022119b8e6b4\",\n",
       "              \"user-agent\": \"python-requests/2.31.0\",\n",
       "              \"accept-encoding\": \"gzip, deflate, br, zstd\",\n",
       "              \"accept\": \"*/*\"\n",
       "          },\n",
       "          \"url\": \"http://postman-echo.com/get?foo1=foo1&foo2=foo2\"\n",
       "      }\n",
       "  }},\n",
       " {'request': {\n",
       "      \"method\": \"GET\",\n",
       "      \"url\": \"https://reqres.in/api/users/2\",\n",
       "      \"headers\": \"None\",\n",
       "      \"params\": \"None\",\n",
       "      \"body\": \"None\",\n",
       "      \"kwargs\": \"None\"\n",
       "  },\n",
       "  'response': {\n",
       "      \"url\": \"https://reqres.in/api/users/2\",\n",
       "      \"status\": 200,\n",
       "      \"headers\": {\n",
       "          \"Date\": \"Mon, 10 Jun 2024 14:31:51 GMT\",\n",
       "          \"Content-Type\": \"application/json; charset=utf-8\",\n",
       "          \"Transfer-Encoding\": \"chunked\",\n",
       "          \"Connection\": \"keep-alive\",\n",
       "          \"Report-To\": \"{\\\"group\\\":\\\"heroku-nel\\\",\\\"max_age\\\":3600,\\\"endpoints\\\":[{\\\"url\\\":\\\"https://nel.heroku.com/reports?ts=1717982629&sid=c4c9725f-1ab0-44d8-820f-430df2718e11&s=lXZMDeKE85MA1YyOKCZa1pmXURer%2FzktaUHsw9%2FB3ps%3D\\\"}]}\",\n",
       "          \"Reporting-Endpoints\": \"heroku-nel=https://nel.heroku.com/reports?ts=1717982629&sid=c4c9725f-1ab0-44d8-820f-430df2718e11&s=lXZMDeKE85MA1YyOKCZa1pmXURer%2FzktaUHsw9%2FB3ps%3D\",\n",
       "          \"Nel\": \"{\\\"report_to\\\":\\\"heroku-nel\\\",\\\"max_age\\\":3600,\\\"success_fraction\\\":0.005,\\\"failure_fraction\\\":0.05,\\\"response_headers\\\":[\\\"Via\\\"]}\",\n",
       "          \"X-Powered-By\": \"Express\",\n",
       "          \"Access-Control-Allow-Origin\": \"*\",\n",
       "          \"Etag\": \"W/\\\"118-pbdwwFo9SKNhD3Lx5iHJyngpq00\\\"\",\n",
       "          \"Via\": \"1.1 vegur\",\n",
       "          \"Cache-Control\": \"max-age=14400\",\n",
       "          \"CF-Cache-Status\": \"HIT\",\n",
       "          \"Age\": \"3711\",\n",
       "          \"Vary\": \"Accept-Encoding\",\n",
       "          \"Server\": \"cloudflare\",\n",
       "          \"CF-RAY\": \"891a1142d90385ba-BOM\",\n",
       "          \"Content-Encoding\": \"br\"\n",
       "      },\n",
       "      \"cookies\": {},\n",
       "      \"elapsed\": \"0:00:00.119574\",\n",
       "      \"text\": \"{\\\"data\\\":{\\\"id\\\":2,\\\"email\\\":\\\"janet.weaver@reqres.in\\\",\\\"first_name\\\":\\\"Janet\\\",\\\"last_name\\\":\\\"Weaver\\\",\\\"avatar\\\":\\\"https://reqres.in/img/faces/2-image.jpg\\\"},\\\"support\\\":{\\\"url\\\":\\\"https://reqres.in/#support-heading\\\",\\\"text\\\":\\\"To keep ReqRes free, contributions towards server costs are appreciated!\\\"}}\",\n",
       "      \"json\": {\n",
       "          \"data\": {\n",
       "              \"id\": 2,\n",
       "              \"email\": \"janet.weaver@reqres.in\",\n",
       "              \"first_name\": \"Janet\",\n",
       "              \"last_name\": \"Weaver\",\n",
       "              \"avatar\": \"https://reqres.in/img/faces/2-image.jpg\"\n",
       "          },\n",
       "          \"support\": {\n",
       "              \"url\": \"https://reqres.in/#support-heading\",\n",
       "              \"text\": \"To keep ReqRes free, contributions towards server costs are appreciated!\"\n",
       "          }\n",
       "      }\n",
       "  }}]"
      ]
     },
     "execution_count": null,
     "metadata": {},
     "output_type": "execute_result"
    }
   ],
   "source": [
    "reqs.print_req_resp"
   ]
  },
  {
   "cell_type": "code",
   "execution_count": null,
   "id": "55dfc8d1-5afe-46e9-9169-171db55f41d9",
   "metadata": {},
   "outputs": [],
   "source": [
    "#| hide\n",
    "import nbdev"
   ]
  },
  {
   "cell_type": "code",
   "execution_count": null,
   "id": "5b8c08c8-5035-4376-b187-8e2ac39599bc",
   "metadata": {},
   "outputs": [],
   "source": [
    "#| hide\n",
    "nbdev.export.nb_export('ReqRespBunch.ipynb','../FastRequest/')"
   ]
  }
 ],
 "metadata": {
  "kernelspec": {
   "display_name": "python3",
   "language": "python",
   "name": "python3"
  }
 },
 "nbformat": 4,
 "nbformat_minor": 5
}
