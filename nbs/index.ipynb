{
 "cells": [
  {
   "cell_type": "code",
   "execution_count": null,
   "metadata": {},
   "outputs": [],
   "source": [
    "#| hide\n",
    "from FastRequest import *"
   ]
  },
  {
   "cell_type": "markdown",
   "metadata": {},
   "source": [
    "# FastRequest\n",
    "\n",
    "> Wrapper around Request lib. For chaining the rest calls along with its reponse"
   ]
  },
  {
   "cell_type": "markdown",
   "metadata": {},
   "source": [
    "## Install"
   ]
  },
  {
   "cell_type": "markdown",
   "metadata": {},
   "source": [
    "```sh\n",
    "pip install FastRequest\n",
    "```"
   ]
  },
  {
   "cell_type": "markdown",
   "metadata": {},
   "source": [
    "## How to use\n",
    "The dynamic data polutaion is achived by using anonymous functions with formatted string to fetch Env varibles like `get_env('key')`."
   ]
  },
  {
   "cell_type": "markdown",
   "metadata": {},
   "source": [
    "```\n",
    "req1 = RestReqFactory(\n",
    "    method=\"GET\",\n",
    "    url_provider= lambda: f\"{get_env('url1')}/get\",\n",
    "    params_provider= lambda : {\n",
    "        \"foo1\": f\"{get_env('foo1')}\",\n",
    "        \"foo2\": f\"{get_env('foo2')}\",\n",
    "    }\n",
    ")\n",
    "req2 = RestReqFactory(\n",
    "    method=\"GET\",\n",
    "    url_provider= lambda : f\"{get_env('url2')}/api/users/2\",\n",
    ")\n",
    "reqs = ReqRespBunch([req1, req2])\n",
    "set_env('foo1', 'foo1')\n",
    "set_env('foo2', 'foo2')\n",
    "set_env('url1', 'https://postman-echo.com')\n",
    "set_env('url2', 'https://reqres.in')\n",
    "runner = Runner()\n",
    "runner.run(reqs)\n",
    "```"
   ]
  },
  {
   "cell_type": "markdown",
   "metadata": {},
   "source": [
    "\n",
    "## Design\n",
    "\n",
    "It implows callback sytem both before and after each Rest Request. Which gives the chanse to weive together the response with the next request and any required validation. Please consider the below digram. \n",
    "\n",
    "### Flow Chart\n",
    "![](./static/flow-chart.png)"
   ]
  },
  {
   "cell_type": "code",
   "execution_count": null,
   "metadata": {},
   "outputs": [],
   "source": []
  }
 ],
 "metadata": {
  "kernelspec": {
   "display_name": "python3",
   "language": "python",
   "name": "python3"
  }
 },
 "nbformat": 4,
 "nbformat_minor": 4
}
