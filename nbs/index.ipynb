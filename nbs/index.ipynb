{
 "cells": [
  {
   "cell_type": "markdown",
   "metadata": {},
   "source": [
    "# FastRequest\n",
    "\n",
    "> Wrapper around Request lib. For chaining the rest calls along with its reponse"
   ]
  },
  {
   "cell_type": "markdown",
   "metadata": {},
   "source": [
    "## Install"
   ]
  },
  {
   "cell_type": "markdown",
   "metadata": {},
   "source": [
    "```\n",
    "pip install FastRequest\n",
    "```"
   ]
  },
  {
   "cell_type": "markdown",
   "metadata": {},
   "source": [
    "## How to use\n",
    "The dynamic data polutaion is achived by using anonymous functions with formatted string to fetch Env varibles like `get_env('key')`."
   ]
  },
  {
   "cell_type": "code",
   "execution_count": null,
   "metadata": {},
   "outputs": [],
   "source": [
    "from FastRequest.ReqRespBunch import *\n",
    "from FastRequest.RestReqFactory import *\n",
    "from FastRequest.Runner import *"
   ]
  },
  {
   "cell_type": "code",
   "execution_count": null,
   "metadata": {},
   "outputs": [],
   "source": [
    "req1 = RestReqFactory(\n",
    "    method=\"GET\",\n",
    "    url_provider= lambda: f\"{get_env('url1')}/get\",\n",
    "    params_provider= lambda : {\n",
    "        \"foo1\": 'foo1',\n",
    "        \"foo2\": \"foo2\",\n",
    "    }\n",
    ")\n",
    "req2 = RestReqFactory(\n",
    "    method=\"GET\",\n",
    "    url_provider= lambda : f\"{get_env('url2')}/api/users/2\",\n",
    ")\n",
    "reqs = ReqRespBunch([req1, req2])"
   ]
  },
  {
   "cell_type": "code",
   "execution_count": null,
   "metadata": {},
   "outputs": [],
   "source": [
    "set_env('url1', 'https://postman-echo.com')\n",
    "set_env('url2', 'https://reqres.in')"
   ]
  },
  {
   "cell_type": "code",
   "execution_count": null,
   "metadata": {},
   "outputs": [
    {
     "data": {
      "application/vnd.jupyter.widget-view+json": {
       "model_id": "c6a1e494901a462b953bc06ef1a7d061",
       "version_major": 2,
       "version_minor": 0
      },
      "text/plain": [
       "  0%|          | 0/2 [00:00<?, ?it/s]"
      ]
     },
     "metadata": {},
     "output_type": "display_data"
    }
   ],
   "source": [
    "runner = Runner()\n",
    "runner.run(reqs)"
   ]
  },
  {
   "cell_type": "markdown",
   "metadata": {},
   "source": [
    "\n",
    "## Design\n",
    "\n",
    "It implows callback sytem both before and after each Rest Request. Which gives the chanse to weive together the response with the next request and any required validation. Please consider the below digram. \n",
    "\n",
    "### Flow Chart\n",
    "![](./static/flow-chart.png)"
   ]
  }
 ],
 "metadata": {
  "kernelspec": {
   "display_name": "python3",
   "language": "python",
   "name": "python3"
  }
 },
 "nbformat": 4,
 "nbformat_minor": 4
}
